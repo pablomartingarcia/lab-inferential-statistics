{
 "cells": [
  {
   "cell_type": "code",
   "execution_count": 1,
   "id": "04cfd07c",
   "metadata": {},
   "outputs": [
    {
     "name": "stdout",
     "output_type": "stream",
     "text": [
      "Test statistic (t-score) calculated in Python: 4.761904761904759\n"
     ]
    }
   ],
   "source": [
    "#1. \n",
    "\n",
    "#Set up the hypothesis test.\n",
    "# H0: μ = 120\n",
    "# H1: μ ≠ 120\n",
    "\n",
    "#Write down all the steps followed for setting up the test.\n",
    "# Let's assume a common significance level of α = 0.05. This indicates a 5% chance of rejecting the null hypothesis when it is true.\n",
    "# Sample mean (x̄) = 130.1 mm Hg\n",
    "# Sample standard deviation (s) = 21.21 mm Hg\n",
    "# Population mean (μ) = 120 mm Hg\n",
    "# Sample size (n) = 100\n",
    "\n",
    "from scipy import stats\n",
    "import numpy as np\n",
    "\n",
    "sample_mean = 130.1\n",
    "pop_mean = 120\n",
    "sample_std = 21.21\n",
    "n = 100\n",
    "\n",
    "t_score = (sample_mean - pop_mean) / (sample_std / np.sqrt(n))\n",
    "print(f'Test statistic (t-score) calculated in Python: {t_score}')"
   ]
  },
  {
   "cell_type": "code",
   "execution_count": null,
   "id": "2d7a0d84",
   "metadata": {},
   "outputs": [],
   "source": []
  }
 ],
 "metadata": {
  "kernelspec": {
   "display_name": "Python 3 (ipykernel)",
   "language": "python",
   "name": "python3"
  },
  "language_info": {
   "codemirror_mode": {
    "name": "ipython",
    "version": 3
   },
   "file_extension": ".py",
   "mimetype": "text/x-python",
   "name": "python",
   "nbconvert_exporter": "python",
   "pygments_lexer": "ipython3",
   "version": "3.11.5"
  }
 },
 "nbformat": 4,
 "nbformat_minor": 5
}
